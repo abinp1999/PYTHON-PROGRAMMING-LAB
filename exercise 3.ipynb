{
 "cells": [
  {
   "cell_type": "code",
   "execution_count": 3,
   "metadata": {},
   "outputs": [
    {
     "name": "stdout",
     "output_type": "stream",
     "text": [
      "enter the temp in celcius :35\n",
      "temp in farenheit: 95.0\n"
     ]
    }
   ],
   "source": [
    "#convert celcius to farenheit\n",
    "c=float(input(\"enter the temp in celcius :\"))\n",
    "f=((c*(9/5))+32)\n",
    "print(\"temp in farenheit:\" , f)"
   ]
  },
  {
   "cell_type": "code",
   "execution_count": 6,
   "metadata": {},
   "outputs": [
    {
     "name": "stdout",
     "output_type": "stream",
     "text": [
      "enter messurment in km :2\n",
      "2.000000 km is equalent to 1.242474 miles\n"
     ]
    }
   ],
   "source": [
    "#conversion from km to miles\n",
    "k=float(input(\"enter messurment in km :\"))\n",
    "m = k*0.6212371\n",
    "print(\"%f km is equalent to %f miles\"%(k,m))"
   ]
  },
  {
   "cell_type": "code",
   "execution_count": 9,
   "metadata": {},
   "outputs": [
    {
     "name": "stdout",
     "output_type": "stream",
     "text": [
      "enter the first number :9\n",
      "enter the second number :6\n",
      "enter the third number :15\n",
      "biggest number is : 15\n"
     ]
    }
   ],
   "source": [
    "#to find biggest number among 3 numbers\n",
    "x=int(input(\"enter the first number :\"))\n",
    "y=int(input(\"enter the second number :\"))\n",
    "z=int(input(\"enter the third number :\"))\n",
    "m=max(x,y,z)\n",
    "print(\"biggest number is :\",m)"
   ]
  },
  {
   "cell_type": "code",
   "execution_count": null,
   "metadata": {
    "collapsed": true
   },
   "outputs": [],
   "source": []
  }
 ],
 "metadata": {
  "kernelspec": {
   "display_name": "Python 3",
   "language": "python",
   "name": "python3"
  },
  "language_info": {
   "codemirror_mode": {
    "name": "ipython",
    "version": 3
   },
   "file_extension": ".py",
   "mimetype": "text/x-python",
   "name": "python",
   "nbconvert_exporter": "python",
   "pygments_lexer": "ipython3",
   "version": "3.6.3"
  }
 },
 "nbformat": 4,
 "nbformat_minor": 2
}
