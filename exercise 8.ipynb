{
 "cells": [
  {
   "cell_type": "code",
   "execution_count": 7,
   "metadata": {},
   "outputs": [
    {
     "name": "stdout",
     "output_type": "stream",
     "text": [
      "enter 1st number:10\n",
      "enter 2nd number:20\n",
      "enter 3rd number:30\n",
      "the number are not equal and their sum is= 60\n"
     ]
    }
   ],
   "source": [
    "#calculate sum of 3 given no...if the value are same and return their sum \n",
    "def sum(a,b,c):\n",
    "    if(a==b==c):\n",
    "        s=3*(a+b+c)\n",
    "        print(\"the number are equal and thrice their sum is =\",s)\n",
    "    else:\n",
    "        s=a+b+c\n",
    "        print(\"the number are not equal and their sum is=\",s)\n",
    "a=int(input(\"enter 1st number:\"))\n",
    "b=int(input(\"enter 2nd number:\"))\n",
    "c=int(input(\"enter 3rd number:\"))\n",
    "sum(a,b,c);"
   ]
  },
  {
   "cell_type": "code",
   "execution_count": 16,
   "metadata": {},
   "outputs": [
    {
     "name": "stdout",
     "output_type": "stream",
     "text": [
      "enter a number:234\n",
      "sum of digits= 9\n"
     ]
    }
   ],
   "source": [
    "#sum of digit of number\n",
    "def sum(n):\n",
    "    sum=0\n",
    "    while(n!=0):\n",
    "        sum=sum+int(n%10)\n",
    "        n=n/10\n",
    "    print(\"sum of digits=\",sum)\n",
    "num=int(input(\"enter a number:\"))\n",
    "sum(num);    "
   ]
  },
  {
   "cell_type": "code",
   "execution_count": 11,
   "metadata": {},
   "outputs": [
    {
     "name": "stdout",
     "output_type": "stream",
     "text": [
      "enter a string:WWW abcd\n",
      "upper case letter= 3\n",
      "lower case letter= 4\n"
     ]
    }
   ],
   "source": [
    "#calculate number of lower and upper case letter pof a string\n",
    "def str(s):\n",
    "    u=l=0\n",
    "    for i in s:\n",
    "        if i.isupper()==1:\n",
    "            u=u+1\n",
    "        elif i.islower()==1:\n",
    "            l=l+1\n",
    "    print(\"upper case letter=\",u)\n",
    "    print(\"lower case letter=\",l)\n",
    "string=input(\"enter a string:\")\n",
    "str(string);"
   ]
  },
  {
   "cell_type": "code",
   "execution_count": 3,
   "metadata": {},
   "outputs": [
    {
     "name": "stdout",
     "output_type": "stream",
     "text": [
      "enter a number7\n",
      "7 is a prime number\n"
     ]
    }
   ],
   "source": [
    "#function to check whether prime or not\n",
    "def prime(n):\n",
    "    if n>1:\n",
    "        for i in range(2,int(n/2)+1):\n",
    "            if(n%i)==0:\n",
    "                print(n,\"is not a prime number\")\n",
    "                break\n",
    "        else:\n",
    "                      print(n,\"is a prime number\")\n",
    "    else:\n",
    "         print(n,\"is a not a prime number\")\n",
    "num=(int(input(\"enter a number\")))\n",
    "prime(num);                      \n",
    "                      "
   ]
  },
  {
   "cell_type": "code",
   "execution_count": 8,
   "metadata": {},
   "outputs": [
    {
     "name": "stdout",
     "output_type": "stream",
     "text": [
      "enter a current year: 2000\n",
      "enter limit of year: 2030\n",
      "the leap years in the range are: \n",
      "2000 , 2004 , 2008 , 2012 , 2016 , 2020 , 2024 , 2028 , "
     ]
    }
   ],
   "source": [
    "#leap years\n",
    "a=int(input(\"enter a current year: \"))\n",
    "b=int(input(\"enter limit of year: \"))\n",
    "def leap(l,u):\n",
    "    for i in range(l,u+1):\n",
    "        if i%4==0 and(i%100!=0 or i%400==0):\n",
    "                print(i,\",\",end=\" \")\n",
    "print(\"the leap years in the range are: \")\n",
    "leap(a,b)"
   ]
  },
  {
   "cell_type": "code",
   "execution_count": 4,
   "metadata": {},
   "outputs": [
    {
     "name": "stdout",
     "output_type": "stream",
     "text": [
      "enter number of employees: 1\n",
      "enter name of employee: abin\n",
      "enter salary of employee: 0\n",
      "the inputed employee name is  abin  and his salary is 8000\n"
     ]
    }
   ],
   "source": [
    "#employee name salary\n",
    "def showEmployee(empname,sal=8000):\n",
    "    print(\"the inputed employee name is \",empname,\" and his salary is\",sal)\n",
    "n=int(input(\"enter number of employees: \"))\n",
    "for i in range(n):\n",
    "    name=input(\"enter name of employee: \")\n",
    "    salary=int(input(\"enter salary of employee: \"))\n",
    "    if salary<=5000:\n",
    "          showEmployee(name)\n",
    "    else:\n",
    "        showEmployee(name,salary)"
   ]
  },
  {
   "cell_type": "code",
   "execution_count": 30,
   "metadata": {},
   "outputs": [
    {
     "name": "stdout",
     "output_type": "stream",
     "text": [
      "enter the number of values: 3\n",
      "enter  values: 6\n",
      "enter  values: 4\n",
      "enter  values: 3\n",
      "minimum of entered items:  3\n"
     ]
    }
   ],
   "source": [
    "#MIN OF ARGUMENT VALUES\n",
    "l=[]\n",
    "def minvalue(*tup):\n",
    "    print(\"minimum of entered items: \",min(tup))\n",
    "n=int(input(\"enter the number of values: \"))\n",
    "i=0\n",
    "for i in range(n):\n",
    "    k=int(input(\"enter  values: \"))    \n",
    "    l.append(k)\n",
    "x=tuple(l)\n",
    "minvalue(*x)"
   ]
  },
  {
   "cell_type": "code",
   "execution_count": 40,
   "metadata": {},
   "outputs": [
    {
     "name": "stdout",
     "output_type": "stream",
     "text": [
      "enter number of persons: 2\n",
      "details for person: 1\n",
      "enter number of information you wish to provide: 2\n",
      "enter any type of info: name\n",
      "enter its value: abin\n",
      "enter any type of info: age\n",
      "enter its value: 22\n",
      "{'name': 'abin', 'age': '22'}\n",
      "\n",
      "\n",
      "details for person: 2\n",
      "enter number of information you wish to provide: 3\n",
      "enter any type of info: name\n",
      "enter its value: sinan\n",
      "enter any type of info: game\n",
      "enter its value: football\n",
      "enter any type of info: place\n",
      "enter its value: malappuram\n",
      "{'name': 'sinan', 'game': 'football', 'place': 'malappuram'}\n",
      "\n",
      "\n"
     ]
    }
   ],
   "source": [
    "#userinfo\n",
    "def uinfo(**d1):\n",
    "    print(d1)\n",
    "    d.clear()\n",
    "    print(\"\\n\")\n",
    "    \n",
    "d={}\n",
    "n=int(input(\"enter number of persons: \"))\n",
    "for i in range(n):\n",
    "    print(\"details for person:\",i+1)\n",
    "    n2=int(input(\"enter number of information you wish to provide: \"))\n",
    "    for j in range(n2):\n",
    "        key=input(\"enter any type of info: \")\n",
    "        val=input(\"enter its value: \")\n",
    "        d.update({key:val})\n",
    "    uinfo(**d)"
   ]
  },
  {
   "cell_type": "code",
   "execution_count": null,
   "metadata": {
    "collapsed": true
   },
   "outputs": [],
   "source": []
  }
 ],
 "metadata": {
  "kernelspec": {
   "display_name": "Python 3",
   "language": "python",
   "name": "python3"
  },
  "language_info": {
   "codemirror_mode": {
    "name": "ipython",
    "version": 3
   },
   "file_extension": ".py",
   "mimetype": "text/x-python",
   "name": "python",
   "nbconvert_exporter": "python",
   "pygments_lexer": "ipython3",
   "version": "3.6.3"
  }
 },
 "nbformat": 4,
 "nbformat_minor": 2
}
