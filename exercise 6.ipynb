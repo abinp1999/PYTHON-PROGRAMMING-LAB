{
 "cells": [
  {
   "cell_type": "code",
   "execution_count": 15,
   "metadata": {},
   "outputs": [
    {
     "name": "stdout",
     "output_type": "stream",
     "text": [
      "enter a number:16\n",
      "the factors of the given number 16 are:\n",
      "16  8  4  2  1  "
     ]
    }
   ],
   "source": [
    "#factorial of a given number\n",
    "num=int(input(\"enter a number:\"))\n",
    "i=num\n",
    "print(\"the factors of the given number\",num,\"are:\")\n",
    "while i>0:\n",
    "        if(num%i==0):\n",
    "         print(i,\" \",end=\"\")\n",
    "        i-=1"
   ]
  },
  {
   "cell_type": "code",
   "execution_count": 32,
   "metadata": {},
   "outputs": [
    {
     "name": "stdout",
     "output_type": "stream",
     "text": [
      "enter a number: 6\n",
      "the required pyramid is : \n",
      "1 \n",
      "\n",
      "2 4 \n",
      "\n",
      "3 6 9 \n",
      "\n",
      "4 8 12 16 \n",
      "\n",
      "5 10 15 20 25 \n",
      "\n",
      "6 12 18 24 30 36 \n",
      "\n"
     ]
    }
   ],
   "source": [
    "#pyramid of multiple numbers\n",
    "n=int(input(\"enter a number: \"))\n",
    "print(\"the required pyramid is : \")\n",
    "\n",
    "for i in range(1,n+1):\n",
    "\n",
    "    for j in range(1,i+1):\n",
    "           print(i*j,end=\" \")\n",
    "    print(\"\\n\")"
   ]
  },
  {
   "cell_type": "code",
   "execution_count": 7,
   "metadata": {},
   "outputs": [
    {
     "name": "stdout",
     "output_type": "stream",
     "text": [
      "enter the limit of fibinocci series:4\n",
      "fibinocci series upto 4 terms are\n",
      "0\n",
      "1\n",
      "1\n",
      "2\n"
     ]
    }
   ],
   "source": [
    "#fibinocci series\n",
    "n=int(input(\"enter the limit of fibinocci series:\"))\n",
    "a=c=d=0\n",
    "b=1\n",
    "print(\"fibinocci series upto\",n,\"terms are\")\n",
    "while d<n:\n",
    "      print(c)\n",
    "      a=b\n",
    "      b=c\n",
    "      c=a+b\n",
    "      d=d+1"
   ]
  },
  {
   "cell_type": "code",
   "execution_count": 30,
   "metadata": {},
   "outputs": [
    {
     "name": "stdout",
     "output_type": "stream",
     "text": [
      "enter the first number:13\n",
      "enter the second number:3\n",
      "gratest common divisor of 13 and 3 is 1\n"
     ]
    }
   ],
   "source": [
    "\n",
    "#find gcd\n",
    "num1=int(input(\"enter the first number:\"))\n",
    "num2=int(input(\"enter the second number:\"))\n",
    "if num1<num2:\n",
    "    m=num1\n",
    "else:\n",
    "    m=num2\n",
    "while m>0:\n",
    "    if(num1%m==0)and(num2%m==0):\n",
    "        print(\"gratest common divisor of\",num1,\"and\",num2,\"is\",m)\n",
    "        break\n",
    "    m=m-1 "
   ]
  },
  {
   "cell_type": "code",
   "execution_count": 34,
   "metadata": {},
   "outputs": [
    {
     "name": "stdout",
     "output_type": "stream",
     "text": [
      "enter some comma seprated by number:8,9,7\n",
      "sum of elements of a list ['8', '9', '7'] is 24\n"
     ]
    }
   ],
   "source": [
    "#sum of elements of a list \n",
    "str=input(\"enter some comma seprated by number:\") \n",
    "l=str.split(\",\") \n",
    "s=i=0 \n",
    "for i in l:\n",
    "    s=s+int(i) \n",
    "print(\"sum of elements of a list\",l,\"is\",s)\n"
   ]
  },
  {
   "cell_type": "code",
   "execution_count": 2,
   "metadata": {},
   "outputs": [
    {
     "name": "stdout",
     "output_type": "stream",
     "text": [
      "enter malayalam\n",
      "frequency of charecter m is: 2\n",
      "frequency of charecter a is: 4\n",
      "frequency of charecter l is: 2\n",
      "frequency of charecter y is: 1\n"
     ]
    }
   ],
   "source": [
    "#frequency of charecters in a string\n",
    "n=input(\"enter \")\n",
    "l=list(n)\n",
    "s=[]\n",
    "[s.append(x) for x in l if x not in s]\n",
    "for i in s:\n",
    "    m=l.count(i)\n",
    "    print(\"frequency of charecter\",i,\"is:\",m)"
   ]
  },
  {
   "cell_type": "code",
   "execution_count": 10,
   "metadata": {},
   "outputs": [
    {
     "name": "stdout",
     "output_type": "stream",
     "text": [
      "*\n",
      "\n",
      "**\n",
      "\n",
      "***\n",
      "\n",
      "****\n",
      "\n",
      "* * * * * \n",
      "\n",
      "* * * * \n",
      "\n",
      "* * * \n",
      "\n",
      "* * \n",
      "\n",
      "* \n",
      "\n"
     ]
    }
   ],
   "source": [
    "#star pattern\n",
    "for i in range(0,4):\n",
    "    for j in range(0,i+1):\n",
    "        print(\"*\",end=\"\")\n",
    "    print(\"\\n\")\n",
    "for i in range(4,-1,-1):\n",
    "    for j in range(0,i+1):\n",
    "         print(\"*\",end=\" \")   \n",
    "    print(\"\\n\")        "
   ]
  },
  {
   "cell_type": "code",
   "execution_count": null,
   "metadata": {
    "collapsed": true
   },
   "outputs": [],
   "source": []
  }
 ],
 "metadata": {
  "kernelspec": {
   "display_name": "Python 3",
   "language": "python",
   "name": "python3"
  },
  "language_info": {
   "codemirror_mode": {
    "name": "ipython",
    "version": 3
   },
   "file_extension": ".py",
   "mimetype": "text/x-python",
   "name": "python",
   "nbconvert_exporter": "python",
   "pygments_lexer": "ipython3",
   "version": "3.6.3"
  }
 },
 "nbformat": 4,
 "nbformat_minor": 2
}
