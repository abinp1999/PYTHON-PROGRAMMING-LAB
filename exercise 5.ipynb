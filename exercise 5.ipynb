{
 "cells": [
  {
   "cell_type": "code",
   "execution_count": 1,
   "metadata": {},
   "outputs": [
    {
     "name": "stdout",
     "output_type": "stream",
     "text": [
      "enter the numbers seprated by comma3,4,5,6\n",
      "list the numbers are: ['3', '4', '5', '6']\n"
     ]
    }
   ],
   "source": [
    "#program for list the numbers in which numbers are seprated by coma\n",
    "numbers =input(\"enter the numbers seprated by comma\")\n",
    "list=numbers.split(\",\");\n",
    "print(\"list the numbers are:\",list)"
   ]
  },
  {
   "cell_type": "code",
   "execution_count": 2,
   "metadata": {},
   "outputs": [
    {
     "name": "stdout",
     "output_type": "stream",
     "text": [
      "enter the colour name specified by comma:red,blue,white,yellow\n",
      "the first colour from list of colour is :  red\n",
      "the last colour from list of colour is :  yellow\n"
     ]
    }
   ],
   "source": [
    "#program to list colors from coma seprated by color namesentered byuser.display first and last colors from a list\n",
    "colours=input(\"enter the colour name specified by comma:\")\n",
    "list=colours.split(\",\")\n",
    "print(\"the first colour from list of colour is : \",list[0])\n",
    "print(\"the last colour from list of colour is : \",list[-1])"
   ]
  },
  {
   "cell_type": "code",
   "execution_count": 3,
   "metadata": {},
   "outputs": [
    {
     "name": "stdout",
     "output_type": "stream",
     "text": [
      "enter the filenameabin.jpg\n",
      "the extensionof the file is: jpg\n"
     ]
    }
   ],
   "source": [
    "#program to accecpt filename from usre and to print extension to that file\n",
    "filename=input(\"enter the filename\")\n",
    "exit=filename.split(\".\");\n",
    "print(\"the extensionof the file is:\",exit[-1])"
   ]
  },
  {
   "cell_type": "code",
   "execution_count": null,
   "metadata": {
    "collapsed": true
   },
   "outputs": [],
   "source": []
  }
 ],
 "metadata": {
  "kernelspec": {
   "display_name": "Python 3",
   "language": "python",
   "name": "python3"
  },
  "language_info": {
   "codemirror_mode": {
    "name": "ipython",
    "version": 3
   },
   "file_extension": ".py",
   "mimetype": "text/x-python",
   "name": "python",
   "nbconvert_exporter": "python",
   "pygments_lexer": "ipython3",
   "version": "3.6.3"
  }
 },
 "nbformat": 4,
 "nbformat_minor": 2
}
