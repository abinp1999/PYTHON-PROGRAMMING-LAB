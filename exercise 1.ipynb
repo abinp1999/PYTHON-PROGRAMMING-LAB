{
 "cells": [
  {
   "cell_type": "code",
   "execution_count": 5,
   "metadata": {},
   "outputs": [
    {
     "name": "stdout",
     "output_type": "stream",
     "text": [
      "enter the sides of square 4\n",
      "area of the square is 16\n"
     ]
    }
   ],
   "source": [
    "#area of square\n",
    "n = int(input(\"enter the sides of square:\"))\n",
    "area = n*n\n",
    "print(\"area of the square is\",area)"
   ]
  },
  {
   "cell_type": "code",
   "execution_count": 7,
   "metadata": {},
   "outputs": [
    {
     "name": "stdout",
     "output_type": "stream",
     "text": [
      "enter the base of right angle triangle : 45\n",
      "enter the height of right angle triangle : 6\n",
      "area of right angled triangle is : 135.0\n"
     ]
    }
   ],
   "source": [
    "#area of right angled triangle\n",
    "b = int(input(\"enter the base of right angle triangle : \"))\n",
    "h=int(input(\"enter the height of right angle triangle : \"))\n",
    "area=0.5*b*h\n",
    "print(\"area of right angled triangle is :\",area)"
   ]
  },
  {
   "cell_type": "code",
   "execution_count": 8,
   "metadata": {},
   "outputs": [
    {
     "name": "stdout",
     "output_type": "stream",
     "text": [
      "entert username abin p\n",
      "hello , abin p!\n"
     ]
    }
   ],
   "source": [
    "#greets the user\n",
    "name = input (\"entert username \")\n",
    "print (\"hello , \" + name + \"!\")"
   ]
  },
  {
   "cell_type": "code",
   "execution_count": 11,
   "metadata": {},
   "outputs": [
    {
     "name": "stdout",
     "output_type": "stream",
     "text": [
      "enter the number8\n",
      "previous number is  7\n",
      "next  number is  9\n"
     ]
    }
   ],
   "source": [
    "#read a num and print pre and next no\n",
    "n = int (input (\"enter the number\"))\n",
    "prev = n-1\n",
    "next = n+1\n",
    "print(\"previous number is \", prev)\n",
    "print(\"next  number is \", next)\n"
   ]
  },
  {
   "cell_type": "code",
   "execution_count": 14,
   "metadata": {},
   "outputs": [
    {
     "name": "stdout",
     "output_type": "stream",
     "text": [
      "enter the principal amount5000\n",
      "enter the rate of intrest7\n",
      "enter the time of period5\n",
      "SIMPLE INTREST IS  1750.0\n"
     ]
    }
   ],
   "source": [
    "#compute simple intrest\n",
    "p = int(input(\"enter the principal amount\"))\n",
    "r = float (input(\"enter the rate of intrest\"))\n",
    "t = int(input(\"enter the time of period\"))\n",
    "SI = (p*r*t)/100\n",
    "print(\"SIMPLE INTREST IS \",SI)\n"
   ]
  },
  {
   "cell_type": "code",
   "execution_count": null,
   "metadata": {
    "collapsed": true
   },
   "outputs": [],
   "source": []
  }
 ],
 "metadata": {
  "kernelspec": {
   "display_name": "Python 3",
   "language": "python",
   "name": "python3"
  },
  "language_info": {
   "codemirror_mode": {
    "name": "ipython",
    "version": 3
   },
   "file_extension": ".py",
   "mimetype": "text/x-python",
   "name": "python",
   "nbconvert_exporter": "python",
   "pygments_lexer": "ipython3",
   "version": "3.6.3"
  }
 },
 "nbformat": 4,
 "nbformat_minor": 2
}
