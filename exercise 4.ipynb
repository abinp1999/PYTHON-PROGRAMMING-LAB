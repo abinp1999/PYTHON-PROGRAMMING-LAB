{
 "cells": [
  {
   "cell_type": "code",
   "execution_count": 2,
   "metadata": {},
   "outputs": [
    {
     "name": "stdout",
     "output_type": "stream",
     "text": [
      "enter a string \n",
      "abin\n",
      "the swapped string is nbia\n"
     ]
    }
   ],
   "source": [
    "#program to swap\n",
    "str=input(\"enter a string \\n\")\n",
    "l = len(str)\n",
    "n=str[l-1]+str[1:l-1]+str[-l]\n",
    "print(\"the swapped string is\",n)"
   ]
  },
  {
   "cell_type": "code",
   "execution_count": 12,
   "metadata": {},
   "outputs": [
    {
     "name": "stdout",
     "output_type": "stream",
     "text": [
      "enter a string:malayalam\n",
      "new string is: maam\n"
     ]
    }
   ],
   "source": [
    "#to get a string first two and last\n",
    "str=(input(\"enter a string:\"))\n",
    "l=len(str)\n",
    "n=str[-l:2]+str[-2:l]\n",
    "print(\"new string is:\",n)\n"
   ]
  },
  {
   "cell_type": "code",
   "execution_count": 13,
   "metadata": {},
   "outputs": [
    {
     "name": "stdout",
     "output_type": "stream",
     "text": [
      "enter the first string:good\n",
      "enter the second string:morning\n",
      "new string is  mood  gorning\n"
     ]
    }
   ],
   "source": [
    "#python programme to get a single string from a given two string\n",
    "str=(input(\"enter the first string:\"))\n",
    "str1=(input(\"enter the second string:\"))\n",
    "l=len(str)\n",
    "n=len(str1)\n",
    "m=str1[0:2]+str[2:]+\"  \"+str[0:2]+str1[2:]\n",
    "print(\"new string is \",m)"
   ]
  },
  {
   "cell_type": "code",
   "execution_count": 4,
   "metadata": {},
   "outputs": [
    {
     "name": "stdout",
     "output_type": "stream",
     "text": [
      "enter a string:abinpaaqq\n",
      "the new string is : abinp$$qq\n"
     ]
    }
   ],
   "source": [
    "#python program to change specified charecter except first\n",
    "string1=str(input(\"enter a string:\"))\n",
    "s1=string1[0]\n",
    "s2=string1.replace(s1,'$')\n",
    "s3=s1+s2[1:]\n",
    "print(\"the new string is :\",s3)"
   ]
  },
  {
   "cell_type": "code",
   "execution_count": null,
   "metadata": {
    "collapsed": true
   },
   "outputs": [],
   "source": []
  }
 ],
 "metadata": {
  "kernelspec": {
   "display_name": "Python 3",
   "language": "python",
   "name": "python3"
  },
  "language_info": {
   "codemirror_mode": {
    "name": "ipython",
    "version": 3
   },
   "file_extension": ".py",
   "mimetype": "text/x-python",
   "name": "python",
   "nbconvert_exporter": "python",
   "pygments_lexer": "ipython3",
   "version": "3.6.3"
  }
 },
 "nbformat": 4,
 "nbformat_minor": 2
}
