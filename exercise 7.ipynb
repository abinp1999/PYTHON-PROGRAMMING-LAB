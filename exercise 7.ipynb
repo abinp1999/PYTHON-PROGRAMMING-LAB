{
 "cells": [
  {
   "cell_type": "code",
   "execution_count": 2,
   "metadata": {},
   "outputs": [
    {
     "name": "stdout",
     "output_type": "stream",
     "text": [
      "enter the list of integers-1,-2,7,8\n",
      "the new list is: [7, 8]\n"
     ]
    }
   ],
   "source": [
    "#generate  positive list of numbers from a given list of integers\n",
    "l=list(map(int,input(\"enter the list of integers\").split(\",\")))\n",
    "newlist=[x for x in l if x>=0]\n",
    "print(\"the new list is:\",newlist)           "
   ]
  },
  {
   "cell_type": "code",
   "execution_count": 7,
   "metadata": {},
   "outputs": [
    {
     "name": "stdout",
     "output_type": "stream",
     "text": [
      "enter some comma seperated list of integers:2,3,4,5\n",
      "the result of sqare values is:  [4, 9, 16, 25]\n"
     ]
    }
   ],
   "source": [
    "#square of n numbers\n",
    "l=list(map(int,input(\"enter some comma seperated list of integers:\").split(\",\"))) \n",
    "rest=[x*x for x in l] \n",
    "print(\"the result of sqare values is: \",rest)\n",
    "    "
   ]
  },
  {
   "cell_type": "code",
   "execution_count": 13,
   "metadata": {},
   "outputs": [
    {
     "name": "stdout",
     "output_type": "stream",
     "text": [
      "enter a word: ice cream\n",
      "the result of vowels:  ['i', 'e', 'a']\n"
     ]
    }
   ],
   "source": [
    "#from a list of vowels froma given word\n",
    "w=input(\"enter a word: \")\n",
    "rest=[]\n",
    "rest=[x for x in w if x in ['a','e','i','o','u','A','E','I','O','U']]\n",
    "temp=[]\n",
    "for i in rest:\n",
    "    if i not in temp:\n",
    "        temp.append(i)\n",
    "\n",
    "print(\"the result of vowels: \",temp)"
   ]
  },
  {
   "cell_type": "code",
   "execution_count": 15,
   "metadata": {},
   "outputs": [
    {
     "name": "stdout",
     "output_type": "stream",
     "text": [
      "enter any word: abin\n",
      "['a', 'b', 'i', 'n']\n",
      "the required value ofordinary value is:  [97, 98, 105, 110]\n"
     ]
    }
   ],
   "source": [
    "#ordinal value of each element\n",
    "word=input(\"enter any word: \")\n",
    "l=list(word)\n",
    "print(l)\n",
    "o=[ord(x) for x in l ]\n",
    "print(\"the required value ofordinary value is: \",o)"
   ]
  },
  {
   "cell_type": "code",
   "execution_count": 2,
   "metadata": {},
   "outputs": [
    {
     "name": "stdout",
     "output_type": "stream",
     "text": [
      "enter comma seprated integers: 2,22,222,2222\n",
      "the required list is:  [2, 22, 'over', 'over']\n"
     ]
    }
   ],
   "source": [
    "#to exeeding 100 integers to \"over\"\n",
    "l=list(map(int,input(\"enter comma seprated integers: \").split(\",\")))\n",
    "for i in range(len(l)):\n",
    "    if l[i]>100:\n",
    "        l[i]=\"over\"\n",
    "print(\"the required list is: \",l)        "
   ]
  },
  {
   "cell_type": "code",
   "execution_count": 5,
   "metadata": {},
   "outputs": [
    {
     "name": "stdout",
     "output_type": "stream",
     "text": [
      "enter some comma seprated first names:ball,pen,ballon\n",
      "number of occurence of a in ball is:  1\n",
      "number of occurence of a in pen is:  0\n",
      "number of occurence of a in ballon is:  1\n",
      "total number of occurence of a list is:  2\n"
     ]
    }
   ],
   "source": [
    "#number of occurence of list of numbers\n",
    "name=input(\"enter some comma seprated first names:\")\n",
    "l=name.split(\",\")\n",
    "t=0\n",
    "for i in l:\n",
    "    print(\"number of occurence of a in\",i,\"is: \",i.count(\"a\"))\n",
    "    t=t+i.count(\"a\")\n",
    "print(\"total number of occurence of a list is: \",t)          "
   ]
  },
  {
   "cell_type": "code",
   "execution_count": 8,
   "metadata": {},
   "outputs": [
    {
     "name": "stdout",
     "output_type": "stream",
     "text": [
      "enter comma seprated for list1: 20,25,27,30\n",
      "enter comma seprated for list2: 35,40,45,50\n",
      "both the list same lenghthand the lenghtis:  4\n",
      "nothing common in both lists...\n"
     ]
    }
   ],
   "source": [
    "#for some list operation\n",
    "l1=list(map(int,input(\"enter comma seprated for list1: \").split(\",\")))\n",
    "l2=list(map(int,input(\"enter comma seprated for list2: \").split(\",\")))\n",
    "if len(l1)!=len(l2):\n",
    "    print(\"the entered list of different size\")\n",
    "else:\n",
    "        print(\"both the list same lenghthand the lenghtis: \",len(l1))\n",
    "        if(sum(l1)==sum(l2)):\n",
    "             print(\"both the list have same sum and the sum: \",len(l2))\n",
    "        k=[i for i in l1 if i in l2]\n",
    "        if len(k)!=0:\n",
    "            print(\"same number are: \",k)\n",
    "        else:\n",
    "            print(\"nothing common in both lists...\")\n",
    "            "
   ]
  },
  {
   "cell_type": "code",
   "execution_count": 14,
   "metadata": {},
   "outputs": [
    {
     "name": "stdout",
     "output_type": "stream",
     "text": [
      "enter the number of elements: 3\n",
      "enter the key: 1\n",
      "enter the value100\n",
      "enter the key: 2\n",
      "enter the value200\n",
      "enter the key: 3\n",
      "enter the value400\n",
      "the dictionary value in ascending order:  ['100', '200', '400']\n",
      "the dictionary value in decending order:  ['400', '200', '100']\n"
     ]
    }
   ],
   "source": [
    "#sort dictionary in ascending and descending order\n",
    "d={}\n",
    "l=[]\n",
    "n=int(input(\"enter the number of elements: \"))\n",
    "for i in range(n):\n",
    "    key=input(\"enter the key: \")\n",
    "    value=input(\"enter the value\")\n",
    "    d.update({key:value})\n",
    "l=sorted(d.values())\n",
    "l2=sorted(d.values(),reverse=True)\n",
    "print(\"the dictionary value in ascending order: \",l[0:])\n",
    "print(\"the dictionary value in decending order: \",l2)\n"
   ]
  },
  {
   "cell_type": "code",
   "execution_count": 17,
   "metadata": {},
   "outputs": [
    {
     "name": "stdout",
     "output_type": "stream",
     "text": [
      "enter the value of elements in a dictionary 1: 4\n",
      "enter the key: 2\n",
      "enter the value100\n",
      "enter the key: 3\n",
      "enter the value300\n",
      "enter the key: 4\n",
      "enter the value500\n",
      "enter the key: 5\n",
      "enter the value600\n",
      "enter the value of elements in a dictionary 2: 3\n",
      "enter key: 6\n",
      "enter the value30\n",
      "enter key: 7\n",
      "enter the value900\n",
      "enter key: 8\n",
      "enter the value644\n",
      "the merged dictionary is:  {'2': '100', '3': '300', '4': '500', '5': '600', '6': '30', '7': '900', '8': '644'}\n"
     ]
    }
   ],
   "source": [
    "#to merge two dictionary\n",
    "d1={}\n",
    "d2={}\n",
    "d3={}\n",
    "n1=int(input(\"enter the value of elements in a dictionary 1: \"))\n",
    "for i in range(n1):\n",
    "    key=input(\"enter the key: \")\n",
    "    value=input(\"enter the value\")\n",
    "    d1.update({key:value})\n",
    "n2= int(input(\"enter the value of elements in a dictionary 2: \"))   \n",
    "for i in range(n2):\n",
    "    key=input(\"enter key: \")\n",
    "    value=input(\"enter the value\")\n",
    "    d2.update({key:value})\n",
    "d3.update(d1)\n",
    "d3.update(d2)\n",
    "print(\"the merged dictionary is: \",d3)"
   ]
  },
  {
   "cell_type": "code",
   "execution_count": null,
   "metadata": {
    "collapsed": true
   },
   "outputs": [],
   "source": []
  }
 ],
 "metadata": {
  "kernelspec": {
   "display_name": "Python 3",
   "language": "python",
   "name": "python3"
  },
  "language_info": {
   "codemirror_mode": {
    "name": "ipython",
    "version": 3
   },
   "file_extension": ".py",
   "mimetype": "text/x-python",
   "name": "python",
   "nbconvert_exporter": "python",
   "pygments_lexer": "ipython3",
   "version": "3.6.3"
  }
 },
 "nbformat": 4,
 "nbformat_minor": 2
}
